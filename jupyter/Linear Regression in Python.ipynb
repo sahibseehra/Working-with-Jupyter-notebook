{
 "cells": [
  {
   "cell_type": "code",
   "execution_count": 106,
   "metadata": {
    "collapsed": true
   },
   "outputs": [],
   "source": [
    "import numpy as np\n",
    "import pandas as pd\n",
    "import statsmodels.formula.api as sm\n",
    "import matplotlib.pyplot as plt\n",
    "%matplotlib inline"
   ]
  },
  {
   "cell_type": "markdown",
   "metadata": {},
   "source": [
    "## Read in the data"
   ]
  },
  {
   "cell_type": "code",
   "execution_count": 2,
   "metadata": {
    "collapsed": true
   },
   "outputs": [],
   "source": [
    "wine = pd.read_csv('https://storage.googleapis.com/dimensionless/Analytics/wine.csv')"
   ]
  },
  {
   "cell_type": "code",
   "execution_count": 3,
   "metadata": {},
   "outputs": [
    {
     "data": {
      "text/plain": [
       "Year             int64\n",
       "Price          float64\n",
       "WinterRain       int64\n",
       "AGST           float64\n",
       "HarvestRain      int64\n",
       "Age              int64\n",
       "FrancePop      float64\n",
       "dtype: object"
      ]
     },
     "execution_count": 3,
     "metadata": {},
     "output_type": "execute_result"
    }
   ],
   "source": [
    "wine.dtypes"
   ]
  },
  {
   "cell_type": "code",
   "execution_count": 4,
   "metadata": {},
   "outputs": [
    {
     "data": {
      "text/html": [
       "<div>\n",
       "<table border=\"1\" class=\"dataframe\">\n",
       "  <thead>\n",
       "    <tr style=\"text-align: right;\">\n",
       "      <th></th>\n",
       "      <th>Year</th>\n",
       "      <th>Price</th>\n",
       "      <th>WinterRain</th>\n",
       "      <th>AGST</th>\n",
       "      <th>HarvestRain</th>\n",
       "      <th>Age</th>\n",
       "      <th>FrancePop</th>\n",
       "    </tr>\n",
       "  </thead>\n",
       "  <tbody>\n",
       "    <tr>\n",
       "      <th>count</th>\n",
       "      <td>25.000000</td>\n",
       "      <td>25.000000</td>\n",
       "      <td>25.000000</td>\n",
       "      <td>25.000000</td>\n",
       "      <td>25.000000</td>\n",
       "      <td>25.000000</td>\n",
       "      <td>25.000000</td>\n",
       "    </tr>\n",
       "    <tr>\n",
       "      <th>mean</th>\n",
       "      <td>1965.800000</td>\n",
       "      <td>7.067224</td>\n",
       "      <td>605.280000</td>\n",
       "      <td>16.509336</td>\n",
       "      <td>148.560000</td>\n",
       "      <td>17.200000</td>\n",
       "      <td>49694.436760</td>\n",
       "    </tr>\n",
       "    <tr>\n",
       "      <th>std</th>\n",
       "      <td>7.691987</td>\n",
       "      <td>0.650341</td>\n",
       "      <td>132.277965</td>\n",
       "      <td>0.675397</td>\n",
       "      <td>74.419464</td>\n",
       "      <td>7.691987</td>\n",
       "      <td>3665.270243</td>\n",
       "    </tr>\n",
       "    <tr>\n",
       "      <th>min</th>\n",
       "      <td>1952.000000</td>\n",
       "      <td>6.204900</td>\n",
       "      <td>376.000000</td>\n",
       "      <td>14.983300</td>\n",
       "      <td>38.000000</td>\n",
       "      <td>5.000000</td>\n",
       "      <td>43183.569000</td>\n",
       "    </tr>\n",
       "    <tr>\n",
       "      <th>25%</th>\n",
       "      <td>1960.000000</td>\n",
       "      <td>6.518800</td>\n",
       "      <td>536.000000</td>\n",
       "      <td>16.200000</td>\n",
       "      <td>89.000000</td>\n",
       "      <td>11.000000</td>\n",
       "      <td>46583.995000</td>\n",
       "    </tr>\n",
       "    <tr>\n",
       "      <th>50%</th>\n",
       "      <td>1966.000000</td>\n",
       "      <td>7.121100</td>\n",
       "      <td>600.000000</td>\n",
       "      <td>16.533300</td>\n",
       "      <td>130.000000</td>\n",
       "      <td>17.000000</td>\n",
       "      <td>50254.966000</td>\n",
       "    </tr>\n",
       "    <tr>\n",
       "      <th>75%</th>\n",
       "      <td>1972.000000</td>\n",
       "      <td>7.495000</td>\n",
       "      <td>697.000000</td>\n",
       "      <td>17.066700</td>\n",
       "      <td>187.000000</td>\n",
       "      <td>23.000000</td>\n",
       "      <td>52894.183000</td>\n",
       "    </tr>\n",
       "    <tr>\n",
       "      <th>max</th>\n",
       "      <td>1978.000000</td>\n",
       "      <td>8.493700</td>\n",
       "      <td>830.000000</td>\n",
       "      <td>17.650000</td>\n",
       "      <td>292.000000</td>\n",
       "      <td>31.000000</td>\n",
       "      <td>54602.193000</td>\n",
       "    </tr>\n",
       "  </tbody>\n",
       "</table>\n",
       "</div>"
      ],
      "text/plain": [
       "              Year      Price  WinterRain       AGST  HarvestRain        Age  \\\n",
       "count    25.000000  25.000000   25.000000  25.000000    25.000000  25.000000   \n",
       "mean   1965.800000   7.067224  605.280000  16.509336   148.560000  17.200000   \n",
       "std       7.691987   0.650341  132.277965   0.675397    74.419464   7.691987   \n",
       "min    1952.000000   6.204900  376.000000  14.983300    38.000000   5.000000   \n",
       "25%    1960.000000   6.518800  536.000000  16.200000    89.000000  11.000000   \n",
       "50%    1966.000000   7.121100  600.000000  16.533300   130.000000  17.000000   \n",
       "75%    1972.000000   7.495000  697.000000  17.066700   187.000000  23.000000   \n",
       "max    1978.000000   8.493700  830.000000  17.650000   292.000000  31.000000   \n",
       "\n",
       "          FrancePop  \n",
       "count     25.000000  \n",
       "mean   49694.436760  \n",
       "std     3665.270243  \n",
       "min    43183.569000  \n",
       "25%    46583.995000  \n",
       "50%    50254.966000  \n",
       "75%    52894.183000  \n",
       "max    54602.193000  "
      ]
     },
     "execution_count": 4,
     "metadata": {},
     "output_type": "execute_result"
    }
   ],
   "source": [
    "wine.describe()"
   ]
  },
  {
   "cell_type": "code",
   "execution_count": 5,
   "metadata": {},
   "outputs": [
    {
     "data": {
      "text/html": [
       "<div>\n",
       "<table border=\"1\" class=\"dataframe\">\n",
       "  <thead>\n",
       "    <tr style=\"text-align: right;\">\n",
       "      <th></th>\n",
       "      <th>Year</th>\n",
       "      <th>Price</th>\n",
       "      <th>WinterRain</th>\n",
       "      <th>AGST</th>\n",
       "      <th>HarvestRain</th>\n",
       "      <th>Age</th>\n",
       "      <th>FrancePop</th>\n",
       "    </tr>\n",
       "  </thead>\n",
       "  <tbody>\n",
       "    <tr>\n",
       "      <th>0</th>\n",
       "      <td>1952</td>\n",
       "      <td>7.4950</td>\n",
       "      <td>600</td>\n",
       "      <td>17.1167</td>\n",
       "      <td>160</td>\n",
       "      <td>31</td>\n",
       "      <td>43183.569</td>\n",
       "    </tr>\n",
       "    <tr>\n",
       "      <th>1</th>\n",
       "      <td>1953</td>\n",
       "      <td>8.0393</td>\n",
       "      <td>690</td>\n",
       "      <td>16.7333</td>\n",
       "      <td>80</td>\n",
       "      <td>30</td>\n",
       "      <td>43495.030</td>\n",
       "    </tr>\n",
       "    <tr>\n",
       "      <th>2</th>\n",
       "      <td>1955</td>\n",
       "      <td>7.6858</td>\n",
       "      <td>502</td>\n",
       "      <td>17.1500</td>\n",
       "      <td>130</td>\n",
       "      <td>28</td>\n",
       "      <td>44217.857</td>\n",
       "    </tr>\n",
       "    <tr>\n",
       "      <th>3</th>\n",
       "      <td>1957</td>\n",
       "      <td>6.9845</td>\n",
       "      <td>420</td>\n",
       "      <td>16.1333</td>\n",
       "      <td>110</td>\n",
       "      <td>26</td>\n",
       "      <td>45152.252</td>\n",
       "    </tr>\n",
       "    <tr>\n",
       "      <th>4</th>\n",
       "      <td>1958</td>\n",
       "      <td>6.7772</td>\n",
       "      <td>582</td>\n",
       "      <td>16.4167</td>\n",
       "      <td>187</td>\n",
       "      <td>25</td>\n",
       "      <td>45653.805</td>\n",
       "    </tr>\n",
       "  </tbody>\n",
       "</table>\n",
       "</div>"
      ],
      "text/plain": [
       "   Year   Price  WinterRain     AGST  HarvestRain  Age  FrancePop\n",
       "0  1952  7.4950         600  17.1167          160   31  43183.569\n",
       "1  1953  8.0393         690  16.7333           80   30  43495.030\n",
       "2  1955  7.6858         502  17.1500          130   28  44217.857\n",
       "3  1957  6.9845         420  16.1333          110   26  45152.252\n",
       "4  1958  6.7772         582  16.4167          187   25  45653.805"
      ]
     },
     "execution_count": 5,
     "metadata": {},
     "output_type": "execute_result"
    }
   ],
   "source": [
    "wine.head()"
   ]
  },
  {
   "cell_type": "markdown",
   "metadata": {},
   "source": [
    "## Linear Regression (one variable)"
   ]
  },
  {
   "cell_type": "code",
   "execution_count": 244,
   "metadata": {
    "collapsed": true
   },
   "outputs": [],
   "source": [
    "model1 = sm.ols(formula='Price ~ AGST',data=wine).fit() # Or model1 = sm.ols('Price ~ AGST',data=wine).fit()"
   ]
  },
  {
   "cell_type": "code",
   "execution_count": 245,
   "metadata": {},
   "outputs": [
    {
     "data": {
      "image/png": "[encoded data removed]",
      "text/plain": [
       "<matplotlib.figure.Figure at 0x7fd04c8f8990>"
      ]
     },
     "metadata": {},
     "output_type": "display_data"
    }
   ],
   "source": [
    "plt.plot(wine['AGST'],wine['Price'],'ro')\n",
    "plt.plot(wine['AGST'],model1.fittedvalues,'b')\n",
    "plt.xlabel('AGST')\n",
    "plt.ylabel('Price')\n",
    "plt.title('Model-1 (Price ~ AGST)')\n",
    "plt.show()"
   ]
  },
  {
   "cell_type": "code",
   "execution_count": 246,
   "metadata": {},
   "outputs": [
    {
     "data": {
      "text/html": [
       "<table class=\"simpletable\">\n",
       "<caption>OLS Regression Results</caption>\n",
       "<tr>\n",
       "  <th>Dep. Variable:</th>          <td>Price</td>      <th>  R-squared:         </th> <td>   0.435</td>\n",
       "</tr>\n",
       "<tr>\n",
       "  <th>Model:</th>                   <td>OLS</td>       <th>  Adj. R-squared:    </th> <td>   0.410</td>\n",
       "</tr>\n",
       "<tr>\n",
       "  <th>Method:</th>             <td>Least Squares</td>  <th>  F-statistic:       </th> <td>   17.71</td>\n",
       "</tr>\n",
       "<tr>\n",
       "  <th>Date:</th>             <td>Fri, 09 Jun 2017</td> <th>  Prob (F-statistic):</th> <td>0.000335</td>\n",
       "</tr>\n",
       "<tr>\n",
       "  <th>Time:</th>                 <td>00:24:57</td>     <th>  Log-Likelihood:    </th> <td> -17.070</td>\n",
       "</tr>\n",
       "<tr>\n",
       "  <th>No. Observations:</th>      <td>    25</td>      <th>  AIC:               </th> <td>   38.14</td>\n",
       "</tr>\n",
       "<tr>\n",
       "  <th>Df Residuals:</th>          <td>    23</td>      <th>  BIC:               </th> <td>   40.58</td>\n",
       "</tr>\n",
       "<tr>\n",
       "  <th>Df Model:</th>              <td>     1</td>      <th>                     </th>     <td> </td>   \n",
       "</tr>\n",
       "<tr>\n",
       "  <th>Covariance Type:</th>      <td>nonrobust</td>    <th>                     </th>     <td> </td>   \n",
       "</tr>\n",
       "</table>\n",
       "<table class=\"simpletable\">\n",
       "<tr>\n",
       "      <td></td>         <th>coef</th>     <th>std err</th>      <th>t</th>      <th>P>|t|</th> <th>[95.0% Conf. Int.]</th> \n",
       "</tr>\n",
       "<tr>\n",
       "  <th>Intercept</th> <td>   -3.4178</td> <td>    2.494</td> <td>   -1.371</td> <td> 0.184</td> <td>   -8.576     1.740</td>\n",
       "</tr>\n",
       "<tr>\n",
       "  <th>AGST</th>      <td>    0.6351</td> <td>    0.151</td> <td>    4.208</td> <td> 0.000</td> <td>    0.323     0.947</td>\n",
       "</tr>\n",
       "</table>\n",
       "<table class=\"simpletable\">\n",
       "<tr>\n",
       "  <th>Omnibus:</th>       <td> 0.986</td> <th>  Durbin-Watson:     </th> <td>   1.758</td>\n",
       "</tr>\n",
       "<tr>\n",
       "  <th>Prob(Omnibus):</th> <td> 0.611</td> <th>  Jarque-Bera (JB):  </th> <td>   0.790</td>\n",
       "</tr>\n",
       "<tr>\n",
       "  <th>Skew:</th>          <td> 0.055</td> <th>  Prob(JB):          </th> <td>   0.674</td>\n",
       "</tr>\n",
       "<tr>\n",
       "  <th>Kurtosis:</th>      <td> 2.136</td> <th>  Cond. No.          </th> <td>    414.</td>\n",
       "</tr>\n",
       "</table>"
      ],
      "text/plain": [
       "<class 'statsmodels.iolib.summary.Summary'>\n",
       "\"\"\"\n",
       "                            OLS Regression Results                            \n",
       "==============================================================================\n",
       "Dep. Variable:                  Price   R-squared:                       0.435\n",
       "Model:                            OLS   Adj. R-squared:                  0.410\n",
       "Method:                 Least Squares   F-statistic:                     17.71\n",
       "Date:                Fri, 09 Jun 2017   Prob (F-statistic):           0.000335\n",
       "Time:                        00:24:57   Log-Likelihood:                -17.070\n",
       "No. Observations:                  25   AIC:                             38.14\n",
       "Df Residuals:                      23   BIC:                             40.58\n",
       "Df Model:                           1                                         \n",
       "Covariance Type:            nonrobust                                         \n",
       "==============================================================================\n",
       "                 coef    std err          t      P>|t|      [95.0% Conf. Int.]\n",
       "------------------------------------------------------------------------------\n",
       "Intercept     -3.4178      2.494     -1.371      0.184        -8.576     1.740\n",
       "AGST           0.6351      0.151      4.208      0.000         0.323     0.947\n",
       "==============================================================================\n",
       "Omnibus:                        0.986   Durbin-Watson:                   1.758\n",
       "Prob(Omnibus):                  0.611   Jarque-Bera (JB):                0.790\n",
       "Skew:                           0.055   Prob(JB):                        0.674\n",
       "Kurtosis:                       2.136   Cond. No.                         414.\n",
       "==============================================================================\n",
       "\n",
       "Warnings:\n",
       "[1] Standard Errors assume that the covariance matrix of the errors is correctly specified.\n",
       "\"\"\""
      ]
     },
     "execution_count": 246,
     "metadata": {},
     "output_type": "execute_result"
    }
   ],
   "source": [
    "model1.summary()"
   ]
  },
  {
   "cell_type": "code",
   "execution_count": 248,
   "metadata": {},
   "outputs": [
    {
     "data": {
      "text/plain": [
       "Intercept   -3.417761\n",
       "AGST         0.635094\n",
       "dtype: float64"
      ]
     },
     "execution_count": 248,
     "metadata": {},
     "output_type": "execute_result"
    }
   ],
   "source": [
    "model1.params"
   ]
  },
  {
   "cell_type": "code",
   "execution_count": 249,
   "metadata": {},
   "outputs": [
    {
     "data": {
      "text/plain": [
       "0     0.042043\n",
       "1     0.829838\n",
       "2     0.211694\n",
       "3     0.156094\n",
       "4    -0.231191\n",
       "5     0.389917\n",
       "6    -0.489591\n",
       "7     0.903181\n",
       "8     0.453724\n",
       "9     0.148875\n",
       "10   -0.238822\n",
       "11   -0.089742\n",
       "12    0.661857\n",
       "13   -0.052115\n",
       "14   -0.627266\n",
       "15   -0.747149\n",
       "16    0.421135\n",
       "17   -0.037274\n",
       "18    0.106853\n",
       "19   -0.784503\n",
       "20   -0.640176\n",
       "21   -0.055087\n",
       "22   -0.670553\n",
       "23   -0.220404\n",
       "24    0.558665\n",
       "dtype: float64"
      ]
     },
     "execution_count": 249,
     "metadata": {},
     "output_type": "execute_result"
    }
   ],
   "source": [
    "model1.resid"
   ]
  },
  {
   "cell_type": "markdown",
   "metadata": {},
   "source": [
    "## Sum of Squared Errors"
   ]
  },
  {
   "cell_type": "code",
   "execution_count": 250,
   "metadata": {},
   "outputs": [
    {
     "data": {
      "text/plain": [
       "5.7348751470201202"
      ]
     },
     "execution_count": 250,
     "metadata": {},
     "output_type": "execute_result"
    }
   ],
   "source": [
    "SSE = sum(model1.resid ** 2)\n",
    "SSE"
   ]
  },
  {
   "cell_type": "code",
   "execution_count": 251,
   "metadata": {
    "collapsed": true
   },
   "outputs": [],
   "source": [
    "RMSE = np.sqrt(SSE / len(wine))"
   ]
  },
  {
   "cell_type": "code",
   "execution_count": 252,
   "metadata": {},
   "outputs": [
    {
     "data": {
      "text/plain": [
       "0.47895198703085551"
      ]
     },
     "execution_count": 252,
     "metadata": {},
     "output_type": "execute_result"
    }
   ],
   "source": [
    "RMSE"
   ]
  },
  {
   "cell_type": "markdown",
   "metadata": {},
   "source": [
    "# Linear Regression (two variables)"
   ]
  },
  {
   "cell_type": "code",
   "execution_count": 253,
   "metadata": {
    "collapsed": true
   },
   "outputs": [],
   "source": [
    "model2 = sm.ols('Price ~ AGST + HarvestRain', data=wine).fit()"
   ]
  },
  {
   "cell_type": "code",
   "execution_count": 254,
   "metadata": {},
   "outputs": [
    {
     "data": {
      "text/html": [
       "<table class=\"simpletable\">\n",
       "<caption>OLS Regression Results</caption>\n",
       "<tr>\n",
       "  <th>Dep. Variable:</th>          <td>Price</td>      <th>  R-squared:         </th> <td>   0.707</td>\n",
       "</tr>\n",
       "<tr>\n",
       "  <th>Model:</th>                   <td>OLS</td>       <th>  Adj. R-squared:    </th> <td>   0.681</td>\n",
       "</tr>\n",
       "<tr>\n",
       "  <th>Method:</th>             <td>Least Squares</td>  <th>  F-statistic:       </th> <td>   26.59</td>\n",
       "</tr>\n",
       "<tr>\n",
       "  <th>Date:</th>             <td>Fri, 09 Jun 2017</td> <th>  Prob (F-statistic):</th> <td>1.35e-06</td>\n",
       "</tr>\n",
       "<tr>\n",
       "  <th>Time:</th>                 <td>00:26:00</td>     <th>  Log-Likelihood:    </th> <td> -8.8461</td>\n",
       "</tr>\n",
       "<tr>\n",
       "  <th>No. Observations:</th>      <td>    25</td>      <th>  AIC:               </th> <td>   23.69</td>\n",
       "</tr>\n",
       "<tr>\n",
       "  <th>Df Residuals:</th>          <td>    22</td>      <th>  BIC:               </th> <td>   27.35</td>\n",
       "</tr>\n",
       "<tr>\n",
       "  <th>Df Model:</th>              <td>     2</td>      <th>                     </th>     <td> </td>   \n",
       "</tr>\n",
       "<tr>\n",
       "  <th>Covariance Type:</th>      <td>nonrobust</td>    <th>                     </th>     <td> </td>   \n",
       "</tr>\n",
       "</table>\n",
       "<table class=\"simpletable\">\n",
       "<tr>\n",
       "       <td></td>          <th>coef</th>     <th>std err</th>      <th>t</th>      <th>P>|t|</th> <th>[95.0% Conf. Int.]</th> \n",
       "</tr>\n",
       "<tr>\n",
       "  <th>Intercept</th>   <td>   -2.2027</td> <td>    1.854</td> <td>   -1.188</td> <td> 0.248</td> <td>   -6.048     1.643</td>\n",
       "</tr>\n",
       "<tr>\n",
       "  <th>AGST</th>        <td>    0.6026</td> <td>    0.111</td> <td>    5.415</td> <td> 0.000</td> <td>    0.372     0.833</td>\n",
       "</tr>\n",
       "<tr>\n",
       "  <th>HarvestRain</th> <td>   -0.0046</td> <td>    0.001</td> <td>   -4.525</td> <td> 0.000</td> <td>   -0.007    -0.002</td>\n",
       "</tr>\n",
       "</table>\n",
       "<table class=\"simpletable\">\n",
       "<tr>\n",
       "  <th>Omnibus:</th>       <td> 1.897</td> <th>  Durbin-Watson:     </th> <td>   1.775</td>\n",
       "</tr>\n",
       "<tr>\n",
       "  <th>Prob(Omnibus):</th> <td> 0.387</td> <th>  Jarque-Bera (JB):  </th> <td>   1.096</td>\n",
       "</tr>\n",
       "<tr>\n",
       "  <th>Skew:</th>          <td>-0.511</td> <th>  Prob(JB):          </th> <td>   0.578</td>\n",
       "</tr>\n",
       "<tr>\n",
       "  <th>Kurtosis:</th>      <td> 3.080</td> <th>  Cond. No.          </th> <td>4.20e+03</td>\n",
       "</tr>\n",
       "</table>"
      ],
      "text/plain": [
       "<class 'statsmodels.iolib.summary.Summary'>\n",
       "\"\"\"\n",
       "                            OLS Regression Results                            \n",
       "==============================================================================\n",
       "Dep. Variable:                  Price   R-squared:                       0.707\n",
       "Model:                            OLS   Adj. R-squared:                  0.681\n",
       "Method:                 Least Squares   F-statistic:                     26.59\n",
       "Date:                Fri, 09 Jun 2017   Prob (F-statistic):           1.35e-06\n",
       "Time:                        00:26:00   Log-Likelihood:                -8.8461\n",
       "No. Observations:                  25   AIC:                             23.69\n",
       "Df Residuals:                      22   BIC:                             27.35\n",
       "Df Model:                           2                                         \n",
       "Covariance Type:            nonrobust                                         \n",
       "===============================================================================\n",
       "                  coef    std err          t      P>|t|      [95.0% Conf. Int.]\n",
       "-------------------------------------------------------------------------------\n",
       "Intercept      -2.2027      1.854     -1.188      0.248        -6.048     1.643\n",
       "AGST            0.6026      0.111      5.415      0.000         0.372     0.833\n",
       "HarvestRain    -0.0046      0.001     -4.525      0.000        -0.007    -0.002\n",
       "==============================================================================\n",
       "Omnibus:                        1.897   Durbin-Watson:                   1.775\n",
       "Prob(Omnibus):                  0.387   Jarque-Bera (JB):                1.096\n",
       "Skew:                          -0.511   Prob(JB):                        0.578\n",
       "Kurtosis:                       3.080   Cond. No.                     4.20e+03\n",
       "==============================================================================\n",
       "\n",
       "Warnings:\n",
       "[1] Standard Errors assume that the covariance matrix of the errors is correctly specified.\n",
       "[2] The condition number is large, 4.2e+03. This might indicate that there are\n",
       "strong multicollinearity or other numerical problems.\n",
       "\"\"\""
      ]
     },
     "execution_count": 254,
     "metadata": {},
     "output_type": "execute_result"
    }
   ],
   "source": [
    "model2.summary()"
   ]
  },
  {
   "cell_type": "markdown",
   "metadata": {},
   "source": [
    "## Sum of Squared Errors"
   ]
  },
  {
   "cell_type": "code",
   "execution_count": 255,
   "metadata": {
    "collapsed": true
   },
   "outputs": [],
   "source": [
    "SSE = sum(model2.resid ** 2)"
   ]
  },
  {
   "cell_type": "code",
   "execution_count": 256,
   "metadata": {},
   "outputs": [
    {
     "data": {
      "text/plain": [
       "2.9703733401735453"
      ]
     },
     "execution_count": 256,
     "metadata": {},
     "output_type": "execute_result"
    }
   ],
   "source": [
    "SSE"
   ]
  },
  {
   "cell_type": "code",
   "execution_count": 257,
   "metadata": {
    "collapsed": true
   },
   "outputs": [],
   "source": [
    "SST = sum((wine['Price'] - np.mean(wine['Price'])) ** 2)"
   ]
  },
  {
   "cell_type": "code",
   "execution_count": 258,
   "metadata": {},
   "outputs": [
    {
     "data": {
      "text/plain": [
       "10.150637725599999"
      ]
     },
     "execution_count": 258,
     "metadata": {},
     "output_type": "execute_result"
    }
   ],
   "source": [
    "SST"
   ]
  },
  {
   "cell_type": "markdown",
   "metadata": {},
   "source": [
    "# Linear Regression (all variables)"
   ]
  },
  {
   "cell_type": "code",
   "execution_count": 259,
   "metadata": {
    "collapsed": true
   },
   "outputs": [],
   "source": [
    "model3 = sm.ols('Price ~ AGST + HarvestRain + WinterRain + Age + FrancePop', data=wine).fit()"
   ]
  },
  {
   "cell_type": "code",
   "execution_count": 260,
   "metadata": {},
   "outputs": [
    {
     "data": {
      "text/html": [
       "<table class=\"simpletable\">\n",
       "<caption>OLS Regression Results</caption>\n",
       "<tr>\n",
       "  <th>Dep. Variable:</th>          <td>Price</td>      <th>  R-squared:         </th> <td>   0.829</td>\n",
       "</tr>\n",
       "<tr>\n",
       "  <th>Model:</th>                   <td>OLS</td>       <th>  Adj. R-squared:    </th> <td>   0.784</td>\n",
       "</tr>\n",
       "<tr>\n",
       "  <th>Method:</th>             <td>Least Squares</td>  <th>  F-statistic:       </th> <td>   18.47</td>\n",
       "</tr>\n",
       "<tr>\n",
       "  <th>Date:</th>             <td>Fri, 09 Jun 2017</td> <th>  Prob (F-statistic):</th> <td>1.04e-06</td>\n",
       "</tr>\n",
       "<tr>\n",
       "  <th>Time:</th>                 <td>00:26:36</td>     <th>  Log-Likelihood:    </th> <td> -2.1043</td>\n",
       "</tr>\n",
       "<tr>\n",
       "  <th>No. Observations:</th>      <td>    25</td>      <th>  AIC:               </th> <td>   16.21</td>\n",
       "</tr>\n",
       "<tr>\n",
       "  <th>Df Residuals:</th>          <td>    19</td>      <th>  BIC:               </th> <td>   23.52</td>\n",
       "</tr>\n",
       "<tr>\n",
       "  <th>Df Model:</th>              <td>     5</td>      <th>                     </th>     <td> </td>   \n",
       "</tr>\n",
       "<tr>\n",
       "  <th>Covariance Type:</th>      <td>nonrobust</td>    <th>                     </th>     <td> </td>   \n",
       "</tr>\n",
       "</table>\n",
       "<table class=\"simpletable\">\n",
       "<tr>\n",
       "       <td></td>          <th>coef</th>     <th>std err</th>      <th>t</th>      <th>P>|t|</th> <th>[95.0% Conf. Int.]</th> \n",
       "</tr>\n",
       "<tr>\n",
       "  <th>Intercept</th>   <td>   -0.4504</td> <td>   10.189</td> <td>   -0.044</td> <td> 0.965</td> <td>  -21.776    20.875</td>\n",
       "</tr>\n",
       "<tr>\n",
       "  <th>AGST</th>        <td>    0.6012</td> <td>    0.103</td> <td>    5.836</td> <td> 0.000</td> <td>    0.386     0.817</td>\n",
       "</tr>\n",
       "<tr>\n",
       "  <th>HarvestRain</th> <td>   -0.0040</td> <td>    0.001</td> <td>   -4.523</td> <td> 0.000</td> <td>   -0.006    -0.002</td>\n",
       "</tr>\n",
       "<tr>\n",
       "  <th>WinterRain</th>  <td>    0.0010</td> <td>    0.001</td> <td>    1.963</td> <td> 0.064</td> <td>-6.89e-05     0.002</td>\n",
       "</tr>\n",
       "<tr>\n",
       "  <th>Age</th>         <td>    0.0006</td> <td>    0.079</td> <td>    0.007</td> <td> 0.994</td> <td>   -0.165     0.166</td>\n",
       "</tr>\n",
       "<tr>\n",
       "  <th>FrancePop</th>   <td>-4.953e-05</td> <td>    0.000</td> <td>   -0.297</td> <td> 0.770</td> <td>   -0.000     0.000</td>\n",
       "</tr>\n",
       "</table>\n",
       "<table class=\"simpletable\">\n",
       "<tr>\n",
       "  <th>Omnibus:</th>       <td> 1.769</td> <th>  Durbin-Watson:     </th> <td>   2.792</td>\n",
       "</tr>\n",
       "<tr>\n",
       "  <th>Prob(Omnibus):</th> <td> 0.413</td> <th>  Jarque-Bera (JB):  </th> <td>   1.026</td>\n",
       "</tr>\n",
       "<tr>\n",
       "  <th>Skew:</th>          <td>-0.005</td> <th>  Prob(JB):          </th> <td>   0.599</td>\n",
       "</tr>\n",
       "<tr>\n",
       "  <th>Kurtosis:</th>      <td> 2.008</td> <th>  Cond. No.          </th> <td>8.41e+06</td>\n",
       "</tr>\n",
       "</table>"
      ],
      "text/plain": [
       "<class 'statsmodels.iolib.summary.Summary'>\n",
       "\"\"\"\n",
       "                            OLS Regression Results                            \n",
       "==============================================================================\n",
       "Dep. Variable:                  Price   R-squared:                       0.829\n",
       "Model:                            OLS   Adj. R-squared:                  0.784\n",
       "Method:                 Least Squares   F-statistic:                     18.47\n",
       "Date:                Fri, 09 Jun 2017   Prob (F-statistic):           1.04e-06\n",
       "Time:                        00:26:36   Log-Likelihood:                -2.1043\n",
       "No. Observations:                  25   AIC:                             16.21\n",
       "Df Residuals:                      19   BIC:                             23.52\n",
       "Df Model:                           5                                         \n",
       "Covariance Type:            nonrobust                                         \n",
       "===============================================================================\n",
       "                  coef    std err          t      P>|t|      [95.0% Conf. Int.]\n",
       "-------------------------------------------------------------------------------\n",
       "Intercept      -0.4504     10.189     -0.044      0.965       -21.776    20.875\n",
       "AGST            0.6012      0.103      5.836      0.000         0.386     0.817\n",
       "HarvestRain    -0.0040      0.001     -4.523      0.000        -0.006    -0.002\n",
       "WinterRain      0.0010      0.001      1.963      0.064     -6.89e-05     0.002\n",
       "Age             0.0006      0.079      0.007      0.994        -0.165     0.166\n",
       "FrancePop   -4.953e-05      0.000     -0.297      0.770        -0.000     0.000\n",
       "==============================================================================\n",
       "Omnibus:                        1.769   Durbin-Watson:                   2.792\n",
       "Prob(Omnibus):                  0.413   Jarque-Bera (JB):                1.026\n",
       "Skew:                          -0.005   Prob(JB):                        0.599\n",
       "Kurtosis:                       2.008   Cond. No.                     8.41e+06\n",
       "==============================================================================\n",
       "\n",
       "Warnings:\n",
       "[1] Standard Errors assume that the covariance matrix of the errors is correctly specified.\n",
       "[2] The condition number is large, 8.41e+06. This might indicate that there are\n",
       "strong multicollinearity or other numerical problems.\n",
       "\"\"\""
      ]
     },
     "execution_count": 260,
     "metadata": {},
     "output_type": "execute_result"
    }
   ],
   "source": [
    "model3.summary()"
   ]
  },
  {
   "cell_type": "markdown",
   "metadata": {},
   "source": [
    "## Sum of Squared Errors"
   ]
  },
  {
   "cell_type": "code",
   "execution_count": 261,
   "metadata": {
    "collapsed": true
   },
   "outputs": [],
   "source": [
    "SSE = sum(model3.resid ** 2)"
   ]
  },
  {
   "cell_type": "code",
   "execution_count": 262,
   "metadata": {},
   "outputs": [
    {
     "data": {
      "text/plain": [
       "1.732112715343795"
      ]
     },
     "execution_count": 262,
     "metadata": {},
     "output_type": "execute_result"
    }
   ],
   "source": [
    "SSE"
   ]
  },
  {
   "cell_type": "markdown",
   "metadata": {},
   "source": [
    "# Quick Question"
   ]
  },
  {
   "cell_type": "code",
   "execution_count": 263,
   "metadata": {
    "collapsed": true
   },
   "outputs": [],
   "source": [
    "model_quick = sm.ols('Price~ HarvestRain + WinterRain',data=wine).fit()"
   ]
  },
  {
   "cell_type": "code",
   "execution_count": 264,
   "metadata": {},
   "outputs": [
    {
     "data": {
      "text/html": [
       "<table class=\"simpletable\">\n",
       "<caption>OLS Regression Results</caption>\n",
       "<tr>\n",
       "  <th>Dep. Variable:</th>          <td>Price</td>      <th>  R-squared:         </th> <td>   0.318</td>\n",
       "</tr>\n",
       "<tr>\n",
       "  <th>Model:</th>                   <td>OLS</td>       <th>  Adj. R-squared:    </th> <td>   0.256</td>\n",
       "</tr>\n",
       "<tr>\n",
       "  <th>Method:</th>             <td>Least Squares</td>  <th>  F-statistic:       </th> <td>   5.122</td>\n",
       "</tr>\n",
       "<tr>\n",
       "  <th>Date:</th>             <td>Fri, 09 Jun 2017</td> <th>  Prob (F-statistic):</th>  <td>0.0149</td> \n",
       "</tr>\n",
       "<tr>\n",
       "  <th>Time:</th>                 <td>00:26:51</td>     <th>  Log-Likelihood:    </th> <td> -19.428</td>\n",
       "</tr>\n",
       "<tr>\n",
       "  <th>No. Observations:</th>      <td>    25</td>      <th>  AIC:               </th> <td>   44.86</td>\n",
       "</tr>\n",
       "<tr>\n",
       "  <th>Df Residuals:</th>          <td>    22</td>      <th>  BIC:               </th> <td>   48.51</td>\n",
       "</tr>\n",
       "<tr>\n",
       "  <th>Df Model:</th>              <td>     2</td>      <th>                     </th>     <td> </td>   \n",
       "</tr>\n",
       "<tr>\n",
       "  <th>Covariance Type:</th>      <td>nonrobust</td>    <th>                     </th>     <td> </td>   \n",
       "</tr>\n",
       "</table>\n",
       "<table class=\"simpletable\">\n",
       "<tr>\n",
       "       <td></td>          <th>coef</th>     <th>std err</th>      <th>t</th>      <th>P>|t|</th> <th>[95.0% Conf. Int.]</th> \n",
       "</tr>\n",
       "<tr>\n",
       "  <th>Intercept</th>   <td>    7.8653</td> <td>    0.662</td> <td>   11.888</td> <td> 0.000</td> <td>    6.493     9.237</td>\n",
       "</tr>\n",
       "<tr>\n",
       "  <th>HarvestRain</th> <td>   -0.0050</td> <td>    0.002</td> <td>   -3.105</td> <td> 0.005</td> <td>   -0.008    -0.002</td>\n",
       "</tr>\n",
       "<tr>\n",
       "  <th>WinterRain</th>  <td>-9.848e-05</td> <td>    0.001</td> <td>   -0.109</td> <td> 0.914</td> <td>   -0.002     0.002</td>\n",
       "</tr>\n",
       "</table>\n",
       "<table class=\"simpletable\">\n",
       "<tr>\n",
       "  <th>Omnibus:</th>       <td> 0.256</td> <th>  Durbin-Watson:     </th> <td>   1.626</td>\n",
       "</tr>\n",
       "<tr>\n",
       "  <th>Prob(Omnibus):</th> <td> 0.880</td> <th>  Jarque-Bera (JB):  </th> <td>   0.235</td>\n",
       "</tr>\n",
       "<tr>\n",
       "  <th>Skew:</th>          <td> 0.195</td> <th>  Prob(JB):          </th> <td>   0.889</td>\n",
       "</tr>\n",
       "<tr>\n",
       "  <th>Kurtosis:</th>      <td> 2.730</td> <th>  Cond. No.          </th> <td>3.75e+03</td>\n",
       "</tr>\n",
       "</table>"
      ],
      "text/plain": [
       "<class 'statsmodels.iolib.summary.Summary'>\n",
       "\"\"\"\n",
       "                            OLS Regression Results                            \n",
       "==============================================================================\n",
       "Dep. Variable:                  Price   R-squared:                       0.318\n",
       "Model:                            OLS   Adj. R-squared:                  0.256\n",
       "Method:                 Least Squares   F-statistic:                     5.122\n",
       "Date:                Fri, 09 Jun 2017   Prob (F-statistic):             0.0149\n",
       "Time:                        00:26:51   Log-Likelihood:                -19.428\n",
       "No. Observations:                  25   AIC:                             44.86\n",
       "Df Residuals:                      22   BIC:                             48.51\n",
       "Df Model:                           2                                         \n",
       "Covariance Type:            nonrobust                                         \n",
       "===============================================================================\n",
       "                  coef    std err          t      P>|t|      [95.0% Conf. Int.]\n",
       "-------------------------------------------------------------------------------\n",
       "Intercept       7.8653      0.662     11.888      0.000         6.493     9.237\n",
       "HarvestRain    -0.0050      0.002     -3.105      0.005        -0.008    -0.002\n",
       "WinterRain  -9.848e-05      0.001     -0.109      0.914        -0.002     0.002\n",
       "==============================================================================\n",
       "Omnibus:                        0.256   Durbin-Watson:                   1.626\n",
       "Prob(Omnibus):                  0.880   Jarque-Bera (JB):                0.235\n",
       "Skew:                           0.195   Prob(JB):                        0.889\n",
       "Kurtosis:                       2.730   Cond. No.                     3.75e+03\n",
       "==============================================================================\n",
       "\n",
       "Warnings:\n",
       "[1] Standard Errors assume that the covariance matrix of the errors is correctly specified.\n",
       "[2] The condition number is large, 3.75e+03. This might indicate that there are\n",
       "strong multicollinearity or other numerical problems.\n",
       "\"\"\""
      ]
     },
     "execution_count": 264,
     "metadata": {},
     "output_type": "execute_result"
    }
   ],
   "source": [
    "model_quick.summary()"
   ]
  },
  {
   "cell_type": "code",
   "execution_count": 265,
   "metadata": {},
   "outputs": [
    {
     "data": {
      "text/plain": [
       "Intercept      7.865325\n",
       "HarvestRain   -0.004971\n",
       "WinterRain    -0.000098\n",
       "dtype: float64"
      ]
     },
     "execution_count": 265,
     "metadata": {},
     "output_type": "execute_result"
    }
   ],
   "source": [
    "model_quick.params"
   ]
  },
  {
   "cell_type": "markdown",
   "metadata": {},
   "source": [
    "# Remove FrancePop"
   ]
  },
  {
   "cell_type": "code",
   "execution_count": 266,
   "metadata": {
    "collapsed": true
   },
   "outputs": [],
   "source": [
    "model4 = sm.ols('Price ~ AGST + HarvestRain+WinterRain+Age', data=wine).fit()"
   ]
  },
  {
   "cell_type": "code",
   "execution_count": 267,
   "metadata": {},
   "outputs": [
    {
     "data": {
      "text/html": [
       "<table class=\"simpletable\">\n",
       "<caption>OLS Regression Results</caption>\n",
       "<tr>\n",
       "  <th>Dep. Variable:</th>          <td>Price</td>      <th>  R-squared:         </th> <td>   0.829</td>\n",
       "</tr>\n",
       "<tr>\n",
       "  <th>Model:</th>                   <td>OLS</td>       <th>  Adj. R-squared:    </th> <td>   0.794</td>\n",
       "</tr>\n",
       "<tr>\n",
       "  <th>Method:</th>             <td>Least Squares</td>  <th>  F-statistic:       </th> <td>   24.17</td>\n",
       "</tr>\n",
       "<tr>\n",
       "  <th>Date:</th>             <td>Fri, 09 Jun 2017</td> <th>  Prob (F-statistic):</th> <td>2.04e-07</td>\n",
       "</tr>\n",
       "<tr>\n",
       "  <th>Time:</th>                 <td>00:27:06</td>     <th>  Log-Likelihood:    </th> <td> -2.1622</td>\n",
       "</tr>\n",
       "<tr>\n",
       "  <th>No. Observations:</th>      <td>    25</td>      <th>  AIC:               </th> <td>   14.32</td>\n",
       "</tr>\n",
       "<tr>\n",
       "  <th>Df Residuals:</th>          <td>    20</td>      <th>  BIC:               </th> <td>   20.42</td>\n",
       "</tr>\n",
       "<tr>\n",
       "  <th>Df Model:</th>              <td>     4</td>      <th>                     </th>     <td> </td>   \n",
       "</tr>\n",
       "<tr>\n",
       "  <th>Covariance Type:</th>      <td>nonrobust</td>    <th>                     </th>     <td> </td>   \n",
       "</tr>\n",
       "</table>\n",
       "<table class=\"simpletable\">\n",
       "<tr>\n",
       "       <td></td>          <th>coef</th>     <th>std err</th>      <th>t</th>      <th>P>|t|</th> <th>[95.0% Conf. Int.]</th> \n",
       "</tr>\n",
       "<tr>\n",
       "  <th>Intercept</th>   <td>   -3.4300</td> <td>    1.766</td> <td>   -1.942</td> <td> 0.066</td> <td>   -7.114     0.254</td>\n",
       "</tr>\n",
       "<tr>\n",
       "  <th>AGST</th>        <td>    0.6072</td> <td>    0.099</td> <td>    6.152</td> <td> 0.000</td> <td>    0.401     0.813</td>\n",
       "</tr>\n",
       "<tr>\n",
       "  <th>HarvestRain</th> <td>   -0.0040</td> <td>    0.001</td> <td>   -4.652</td> <td> 0.000</td> <td>   -0.006    -0.002</td>\n",
       "</tr>\n",
       "<tr>\n",
       "  <th>WinterRain</th>  <td>    0.0011</td> <td>    0.001</td> <td>    2.120</td> <td> 0.047</td> <td> 1.73e-05     0.002</td>\n",
       "</tr>\n",
       "<tr>\n",
       "  <th>Age</th>         <td>    0.0239</td> <td>    0.008</td> <td>    2.956</td> <td> 0.008</td> <td>    0.007     0.041</td>\n",
       "</tr>\n",
       "</table>\n",
       "<table class=\"simpletable\">\n",
       "<tr>\n",
       "  <th>Omnibus:</th>       <td> 1.814</td> <th>  Durbin-Watson:     </th> <td>   2.797</td>\n",
       "</tr>\n",
       "<tr>\n",
       "  <th>Prob(Omnibus):</th> <td> 0.404</td> <th>  Jarque-Bera (JB):  </th> <td>   1.041</td>\n",
       "</tr>\n",
       "<tr>\n",
       "  <th>Skew:</th>          <td> 0.034</td> <th>  Prob(JB):          </th> <td>   0.594</td>\n",
       "</tr>\n",
       "<tr>\n",
       "  <th>Kurtosis:</th>      <td> 2.003</td> <th>  Cond. No.          </th> <td>1.91e+04</td>\n",
       "</tr>\n",
       "</table>"
      ],
      "text/plain": [
       "<class 'statsmodels.iolib.summary.Summary'>\n",
       "\"\"\"\n",
       "                            OLS Regression Results                            \n",
       "==============================================================================\n",
       "Dep. Variable:                  Price   R-squared:                       0.829\n",
       "Model:                            OLS   Adj. R-squared:                  0.794\n",
       "Method:                 Least Squares   F-statistic:                     24.17\n",
       "Date:                Fri, 09 Jun 2017   Prob (F-statistic):           2.04e-07\n",
       "Time:                        00:27:06   Log-Likelihood:                -2.1622\n",
       "No. Observations:                  25   AIC:                             14.32\n",
       "Df Residuals:                      20   BIC:                             20.42\n",
       "Df Model:                           4                                         \n",
       "Covariance Type:            nonrobust                                         \n",
       "===============================================================================\n",
       "                  coef    std err          t      P>|t|      [95.0% Conf. Int.]\n",
       "-------------------------------------------------------------------------------\n",
       "Intercept      -3.4300      1.766     -1.942      0.066        -7.114     0.254\n",
       "AGST            0.6072      0.099      6.152      0.000         0.401     0.813\n",
       "HarvestRain    -0.0040      0.001     -4.652      0.000        -0.006    -0.002\n",
       "WinterRain      0.0011      0.001      2.120      0.047      1.73e-05     0.002\n",
       "Age             0.0239      0.008      2.956      0.008         0.007     0.041\n",
       "==============================================================================\n",
       "Omnibus:                        1.814   Durbin-Watson:                   2.797\n",
       "Prob(Omnibus):                  0.404   Jarque-Bera (JB):                1.041\n",
       "Skew:                           0.034   Prob(JB):                        0.594\n",
       "Kurtosis:                       2.003   Cond. No.                     1.91e+04\n",
       "==============================================================================\n",
       "\n",
       "Warnings:\n",
       "[1] Standard Errors assume that the covariance matrix of the errors is correctly specified.\n",
       "[2] The condition number is large, 1.91e+04. This might indicate that there are\n",
       "strong multicollinearity or other numerical problems.\n",
       "\"\"\""
      ]
     },
     "execution_count": 267,
     "metadata": {},
     "output_type": "execute_result"
    }
   ],
   "source": [
    "model4.summary()"
   ]
  },
  {
   "cell_type": "code",
   "execution_count": 268,
   "metadata": {},
   "outputs": [
    {
     "data": {
      "text/html": [
       "<table class=\"simpletable\">\n",
       "<caption>OLS Regression Results</caption>\n",
       "<tr>\n",
       "  <th>Dep. Variable:</th>          <td>Price</td>      <th>  R-squared:         </th> <td>   0.829</td>\n",
       "</tr>\n",
       "<tr>\n",
       "  <th>Model:</th>                   <td>OLS</td>       <th>  Adj. R-squared:    </th> <td>   0.784</td>\n",
       "</tr>\n",
       "<tr>\n",
       "  <th>Method:</th>             <td>Least Squares</td>  <th>  F-statistic:       </th> <td>   18.47</td>\n",
       "</tr>\n",
       "<tr>\n",
       "  <th>Date:</th>             <td>Fri, 09 Jun 2017</td> <th>  Prob (F-statistic):</th> <td>1.04e-06</td>\n",
       "</tr>\n",
       "<tr>\n",
       "  <th>Time:</th>                 <td>00:27:07</td>     <th>  Log-Likelihood:    </th> <td> -2.1043</td>\n",
       "</tr>\n",
       "<tr>\n",
       "  <th>No. Observations:</th>      <td>    25</td>      <th>  AIC:               </th> <td>   16.21</td>\n",
       "</tr>\n",
       "<tr>\n",
       "  <th>Df Residuals:</th>          <td>    19</td>      <th>  BIC:               </th> <td>   23.52</td>\n",
       "</tr>\n",
       "<tr>\n",
       "  <th>Df Model:</th>              <td>     5</td>      <th>                     </th>     <td> </td>   \n",
       "</tr>\n",
       "<tr>\n",
       "  <th>Covariance Type:</th>      <td>nonrobust</td>    <th>                     </th>     <td> </td>   \n",
       "</tr>\n",
       "</table>\n",
       "<table class=\"simpletable\">\n",
       "<tr>\n",
       "       <td></td>          <th>coef</th>     <th>std err</th>      <th>t</th>      <th>P>|t|</th> <th>[95.0% Conf. Int.]</th> \n",
       "</tr>\n",
       "<tr>\n",
       "  <th>Intercept</th>   <td>   -0.4504</td> <td>   10.189</td> <td>   -0.044</td> <td> 0.965</td> <td>  -21.776    20.875</td>\n",
       "</tr>\n",
       "<tr>\n",
       "  <th>AGST</th>        <td>    0.6012</td> <td>    0.103</td> <td>    5.836</td> <td> 0.000</td> <td>    0.386     0.817</td>\n",
       "</tr>\n",
       "<tr>\n",
       "  <th>HarvestRain</th> <td>   -0.0040</td> <td>    0.001</td> <td>   -4.523</td> <td> 0.000</td> <td>   -0.006    -0.002</td>\n",
       "</tr>\n",
       "<tr>\n",
       "  <th>WinterRain</th>  <td>    0.0010</td> <td>    0.001</td> <td>    1.963</td> <td> 0.064</td> <td>-6.89e-05     0.002</td>\n",
       "</tr>\n",
       "<tr>\n",
       "  <th>Age</th>         <td>    0.0006</td> <td>    0.079</td> <td>    0.007</td> <td> 0.994</td> <td>   -0.165     0.166</td>\n",
       "</tr>\n",
       "<tr>\n",
       "  <th>FrancePop</th>   <td>-4.953e-05</td> <td>    0.000</td> <td>   -0.297</td> <td> 0.770</td> <td>   -0.000     0.000</td>\n",
       "</tr>\n",
       "</table>\n",
       "<table class=\"simpletable\">\n",
       "<tr>\n",
       "  <th>Omnibus:</th>       <td> 1.769</td> <th>  Durbin-Watson:     </th> <td>   2.792</td>\n",
       "</tr>\n",
       "<tr>\n",
       "  <th>Prob(Omnibus):</th> <td> 0.413</td> <th>  Jarque-Bera (JB):  </th> <td>   1.026</td>\n",
       "</tr>\n",
       "<tr>\n",
       "  <th>Skew:</th>          <td>-0.005</td> <th>  Prob(JB):          </th> <td>   0.599</td>\n",
       "</tr>\n",
       "<tr>\n",
       "  <th>Kurtosis:</th>      <td> 2.008</td> <th>  Cond. No.          </th> <td>8.41e+06</td>\n",
       "</tr>\n",
       "</table>"
      ],
      "text/plain": [
       "<class 'statsmodels.iolib.summary.Summary'>\n",
       "\"\"\"\n",
       "                            OLS Regression Results                            \n",
       "==============================================================================\n",
       "Dep. Variable:                  Price   R-squared:                       0.829\n",
       "Model:                            OLS   Adj. R-squared:                  0.784\n",
       "Method:                 Least Squares   F-statistic:                     18.47\n",
       "Date:                Fri, 09 Jun 2017   Prob (F-statistic):           1.04e-06\n",
       "Time:                        00:27:07   Log-Likelihood:                -2.1043\n",
       "No. Observations:                  25   AIC:                             16.21\n",
       "Df Residuals:                      19   BIC:                             23.52\n",
       "Df Model:                           5                                         \n",
       "Covariance Type:            nonrobust                                         \n",
       "===============================================================================\n",
       "                  coef    std err          t      P>|t|      [95.0% Conf. Int.]\n",
       "-------------------------------------------------------------------------------\n",
       "Intercept      -0.4504     10.189     -0.044      0.965       -21.776    20.875\n",
       "AGST            0.6012      0.103      5.836      0.000         0.386     0.817\n",
       "HarvestRain    -0.0040      0.001     -4.523      0.000        -0.006    -0.002\n",
       "WinterRain      0.0010      0.001      1.963      0.064     -6.89e-05     0.002\n",
       "Age             0.0006      0.079      0.007      0.994        -0.165     0.166\n",
       "FrancePop   -4.953e-05      0.000     -0.297      0.770        -0.000     0.000\n",
       "==============================================================================\n",
       "Omnibus:                        1.769   Durbin-Watson:                   2.792\n",
       "Prob(Omnibus):                  0.413   Jarque-Bera (JB):                1.026\n",
       "Skew:                          -0.005   Prob(JB):                        0.599\n",
       "Kurtosis:                       2.008   Cond. No.                     8.41e+06\n",
       "==============================================================================\n",
       "\n",
       "Warnings:\n",
       "[1] Standard Errors assume that the covariance matrix of the errors is correctly specified.\n",
       "[2] The condition number is large, 8.41e+06. This might indicate that there are\n",
       "strong multicollinearity or other numerical problems.\n",
       "\"\"\""
      ]
     },
     "execution_count": 268,
     "metadata": {},
     "output_type": "execute_result"
    }
   ],
   "source": [
    "model3.summary()"
   ]
  },
  {
   "cell_type": "code",
   "execution_count": 269,
   "metadata": {
    "collapsed": true
   },
   "outputs": [],
   "source": [
    "import statsmodels.api as sm_api\n",
    "table = sm_api.stats.anova_lm(model3,model4)"
   ]
  },
  {
   "cell_type": "code",
   "execution_count": 270,
   "metadata": {},
   "outputs": [
    {
     "data": {
      "text/html": [
       "<div>\n",
       "<table border=\"1\" class=\"dataframe\">\n",
       "  <thead>\n",
       "    <tr style=\"text-align: right;\">\n",
       "      <th></th>\n",
       "      <th>df_resid</th>\n",
       "      <th>ssr</th>\n",
       "      <th>df_diff</th>\n",
       "      <th>ss_diff</th>\n",
       "      <th>F</th>\n",
       "      <th>Pr(&gt;F)</th>\n",
       "    </tr>\n",
       "  </thead>\n",
       "  <tbody>\n",
       "    <tr>\n",
       "      <th>0</th>\n",
       "      <td>19.0</td>\n",
       "      <td>1.732113</td>\n",
       "      <td>0.0</td>\n",
       "      <td>NaN</td>\n",
       "      <td>NaN</td>\n",
       "      <td>NaN</td>\n",
       "    </tr>\n",
       "    <tr>\n",
       "      <th>1</th>\n",
       "      <td>20.0</td>\n",
       "      <td>1.740162</td>\n",
       "      <td>-1.0</td>\n",
       "      <td>-0.008049</td>\n",
       "      <td>0.092514</td>\n",
       "      <td>NaN</td>\n",
       "    </tr>\n",
       "  </tbody>\n",
       "</table>\n",
       "</div>"
      ],
      "text/plain": [
       "   df_resid       ssr  df_diff   ss_diff         F  Pr(>F)\n",
       "0      19.0  1.732113      0.0       NaN       NaN     NaN\n",
       "1      20.0  1.740162     -1.0 -0.008049  0.092514     NaN"
      ]
     },
     "execution_count": 270,
     "metadata": {},
     "output_type": "execute_result"
    }
   ],
   "source": [
    "table"
   ]
  },
  {
   "cell_type": "markdown",
   "metadata": {},
   "source": [
    "# Correlations"
   ]
  },
  {
   "cell_type": "code",
   "execution_count": 271,
   "metadata": {},
   "outputs": [
    {
     "data": {
      "text/plain": [
       "0.13665054738762955"
      ]
     },
     "execution_count": 271,
     "metadata": {},
     "output_type": "execute_result"
    }
   ],
   "source": [
    "np.corrcoef(wine['WinterRain'],wine['Price'])[0][1]"
   ]
  },
  {
   "cell_type": "code",
   "execution_count": 273,
   "metadata": {},
   "outputs": [
    {
     "data": {
      "text/plain": [
       "0.13665054738762958"
      ]
     },
     "execution_count": 273,
     "metadata": {},
     "output_type": "execute_result"
    }
   ],
   "source": [
    "from scipy.stats.stats import pearsonr\n",
    "pearsonr(wine['WinterRain'],wine['Price'])[0]"
   ]
  },
  {
   "cell_type": "code",
   "execution_count": 274,
   "metadata": {},
   "outputs": [
    {
     "data": {
      "text/plain": [
       "-0.99448509711145472"
      ]
     },
     "execution_count": 274,
     "metadata": {},
     "output_type": "execute_result"
    }
   ],
   "source": [
    "np.corrcoef(wine['Age'], wine['FrancePop'])[0][1]"
   ]
  },
  {
   "cell_type": "code",
   "execution_count": 275,
   "metadata": {},
   "outputs": [
    {
     "data": {
      "text/html": [
       "<div>\n",
       "<table border=\"1\" class=\"dataframe\">\n",
       "  <thead>\n",
       "    <tr style=\"text-align: right;\">\n",
       "      <th></th>\n",
       "      <th>Year</th>\n",
       "      <th>Price</th>\n",
       "      <th>WinterRain</th>\n",
       "      <th>AGST</th>\n",
       "      <th>HarvestRain</th>\n",
       "      <th>Age</th>\n",
       "      <th>FrancePop</th>\n",
       "    </tr>\n",
       "  </thead>\n",
       "  <tbody>\n",
       "    <tr>\n",
       "      <th>Year</th>\n",
       "      <td>1.000000</td>\n",
       "      <td>-0.447768</td>\n",
       "      <td>0.016970</td>\n",
       "      <td>-0.246916</td>\n",
       "      <td>0.028009</td>\n",
       "      <td>-1.000000</td>\n",
       "      <td>0.994485</td>\n",
       "    </tr>\n",
       "    <tr>\n",
       "      <th>Price</th>\n",
       "      <td>-0.447768</td>\n",
       "      <td>1.000000</td>\n",
       "      <td>0.136651</td>\n",
       "      <td>0.659563</td>\n",
       "      <td>-0.563322</td>\n",
       "      <td>0.447768</td>\n",
       "      <td>-0.466862</td>\n",
       "    </tr>\n",
       "    <tr>\n",
       "      <th>WinterRain</th>\n",
       "      <td>0.016970</td>\n",
       "      <td>0.136651</td>\n",
       "      <td>1.000000</td>\n",
       "      <td>-0.321091</td>\n",
       "      <td>-0.275441</td>\n",
       "      <td>-0.016970</td>\n",
       "      <td>-0.001622</td>\n",
       "    </tr>\n",
       "    <tr>\n",
       "      <th>AGST</th>\n",
       "      <td>-0.246916</td>\n",
       "      <td>0.659563</td>\n",
       "      <td>-0.321091</td>\n",
       "      <td>1.000000</td>\n",
       "      <td>-0.064496</td>\n",
       "      <td>0.246916</td>\n",
       "      <td>-0.259162</td>\n",
       "    </tr>\n",
       "    <tr>\n",
       "      <th>HarvestRain</th>\n",
       "      <td>0.028009</td>\n",
       "      <td>-0.563322</td>\n",
       "      <td>-0.275441</td>\n",
       "      <td>-0.064496</td>\n",
       "      <td>1.000000</td>\n",
       "      <td>-0.028009</td>\n",
       "      <td>0.041264</td>\n",
       "    </tr>\n",
       "    <tr>\n",
       "      <th>Age</th>\n",
       "      <td>-1.000000</td>\n",
       "      <td>0.447768</td>\n",
       "      <td>-0.016970</td>\n",
       "      <td>0.246916</td>\n",
       "      <td>-0.028009</td>\n",
       "      <td>1.000000</td>\n",
       "      <td>-0.994485</td>\n",
       "    </tr>\n",
       "    <tr>\n",
       "      <th>FrancePop</th>\n",
       "      <td>0.994485</td>\n",
       "      <td>-0.466862</td>\n",
       "      <td>-0.001622</td>\n",
       "      <td>-0.259162</td>\n",
       "      <td>0.041264</td>\n",
       "      <td>-0.994485</td>\n",
       "      <td>1.000000</td>\n",
       "    </tr>\n",
       "  </tbody>\n",
       "</table>\n",
       "</div>"
      ],
      "text/plain": [
       "                 Year     Price  WinterRain      AGST  HarvestRain       Age  \\\n",
       "Year         1.000000 -0.447768    0.016970 -0.246916     0.028009 -1.000000   \n",
       "Price       -0.447768  1.000000    0.136651  0.659563    -0.563322  0.447768   \n",
       "WinterRain   0.016970  0.136651    1.000000 -0.321091    -0.275441 -0.016970   \n",
       "AGST        -0.246916  0.659563   -0.321091  1.000000    -0.064496  0.246916   \n",
       "HarvestRain  0.028009 -0.563322   -0.275441 -0.064496     1.000000 -0.028009   \n",
       "Age         -1.000000  0.447768   -0.016970  0.246916    -0.028009  1.000000   \n",
       "FrancePop    0.994485 -0.466862   -0.001622 -0.259162     0.041264 -0.994485   \n",
       "\n",
       "             FrancePop  \n",
       "Year          0.994485  \n",
       "Price        -0.466862  \n",
       "WinterRain   -0.001622  \n",
       "AGST         -0.259162  \n",
       "HarvestRain   0.041264  \n",
       "Age          -0.994485  \n",
       "FrancePop     1.000000  "
      ]
     },
     "execution_count": 275,
     "metadata": {},
     "output_type": "execute_result"
    }
   ],
   "source": [
    "pd.DataFrame.corr(wine)"
   ]
  },
  {
   "cell_type": "code",
   "execution_count": 276,
   "metadata": {
    "collapsed": true
   },
   "outputs": [],
   "source": [
    "model5 = sm.ols('Price ~ AGST + HarvestRain + WinterRain', data=wine).fit()"
   ]
  },
  {
   "cell_type": "code",
   "execution_count": 277,
   "metadata": {},
   "outputs": [
    {
     "data": {
      "text/html": [
       "<table class=\"simpletable\">\n",
       "<caption>OLS Regression Results</caption>\n",
       "<tr>\n",
       "  <th>Dep. Variable:</th>          <td>Price</td>      <th>  R-squared:         </th> <td>   0.754</td>\n",
       "</tr>\n",
       "<tr>\n",
       "  <th>Model:</th>                   <td>OLS</td>       <th>  Adj. R-squared:    </th> <td>   0.719</td>\n",
       "</tr>\n",
       "<tr>\n",
       "  <th>Method:</th>             <td>Least Squares</td>  <th>  F-statistic:       </th> <td>   21.42</td>\n",
       "</tr>\n",
       "<tr>\n",
       "  <th>Date:</th>             <td>Fri, 09 Jun 2017</td> <th>  Prob (F-statistic):</th> <td>1.36e-06</td>\n",
       "</tr>\n",
       "<tr>\n",
       "  <th>Time:</th>                 <td>00:30:12</td>     <th>  Log-Likelihood:    </th> <td> -6.6922</td>\n",
       "</tr>\n",
       "<tr>\n",
       "  <th>No. Observations:</th>      <td>    25</td>      <th>  AIC:               </th> <td>   21.38</td>\n",
       "</tr>\n",
       "<tr>\n",
       "  <th>Df Residuals:</th>          <td>    21</td>      <th>  BIC:               </th> <td>   26.26</td>\n",
       "</tr>\n",
       "<tr>\n",
       "  <th>Df Model:</th>              <td>     3</td>      <th>                     </th>     <td> </td>   \n",
       "</tr>\n",
       "<tr>\n",
       "  <th>Covariance Type:</th>      <td>nonrobust</td>    <th>                     </th>     <td> </td>   \n",
       "</tr>\n",
       "</table>\n",
       "<table class=\"simpletable\">\n",
       "<tr>\n",
       "       <td></td>          <th>coef</th>     <th>std err</th>      <th>t</th>      <th>P>|t|</th> <th>[95.0% Conf. Int.]</th> \n",
       "</tr>\n",
       "<tr>\n",
       "  <th>Intercept</th>   <td>   -4.3016</td> <td>    2.037</td> <td>   -2.112</td> <td> 0.047</td> <td>   -8.537    -0.066</td>\n",
       "</tr>\n",
       "<tr>\n",
       "  <th>AGST</th>        <td>    0.6810</td> <td>    0.112</td> <td>    6.097</td> <td> 0.000</td> <td>    0.449     0.913</td>\n",
       "</tr>\n",
       "<tr>\n",
       "  <th>HarvestRain</th> <td>   -0.0039</td> <td>    0.001</td> <td>   -3.953</td> <td> 0.001</td> <td>   -0.006    -0.002</td>\n",
       "</tr>\n",
       "<tr>\n",
       "  <th>WinterRain</th>  <td>    0.0012</td> <td>    0.001</td> <td>    1.987</td> <td> 0.060</td> <td>-5.47e-05     0.002</td>\n",
       "</tr>\n",
       "</table>\n",
       "<table class=\"simpletable\">\n",
       "<tr>\n",
       "  <th>Omnibus:</th>       <td> 0.621</td> <th>  Durbin-Watson:     </th> <td>   2.022</td>\n",
       "</tr>\n",
       "<tr>\n",
       "  <th>Prob(Omnibus):</th> <td> 0.733</td> <th>  Jarque-Bera (JB):  </th> <td>   0.419</td>\n",
       "</tr>\n",
       "<tr>\n",
       "  <th>Skew:</th>          <td>-0.303</td> <th>  Prob(JB):          </th> <td>   0.811</td>\n",
       "</tr>\n",
       "<tr>\n",
       "  <th>Kurtosis:</th>      <td> 2.810</td> <th>  Cond. No.          </th> <td>1.88e+04</td>\n",
       "</tr>\n",
       "</table>"
      ],
      "text/plain": [
       "<class 'statsmodels.iolib.summary.Summary'>\n",
       "\"\"\"\n",
       "                            OLS Regression Results                            \n",
       "==============================================================================\n",
       "Dep. Variable:                  Price   R-squared:                       0.754\n",
       "Model:                            OLS   Adj. R-squared:                  0.719\n",
       "Method:                 Least Squares   F-statistic:                     21.42\n",
       "Date:                Fri, 09 Jun 2017   Prob (F-statistic):           1.36e-06\n",
       "Time:                        00:30:12   Log-Likelihood:                -6.6922\n",
       "No. Observations:                  25   AIC:                             21.38\n",
       "Df Residuals:                      21   BIC:                             26.26\n",
       "Df Model:                           3                                         \n",
       "Covariance Type:            nonrobust                                         \n",
       "===============================================================================\n",
       "                  coef    std err          t      P>|t|      [95.0% Conf. Int.]\n",
       "-------------------------------------------------------------------------------\n",
       "Intercept      -4.3016      2.037     -2.112      0.047        -8.537    -0.066\n",
       "AGST            0.6810      0.112      6.097      0.000         0.449     0.913\n",
       "HarvestRain    -0.0039      0.001     -3.953      0.001        -0.006    -0.002\n",
       "WinterRain      0.0012      0.001      1.987      0.060     -5.47e-05     0.002\n",
       "==============================================================================\n",
       "Omnibus:                        0.621   Durbin-Watson:                   2.022\n",
       "Prob(Omnibus):                  0.733   Jarque-Bera (JB):                0.419\n",
       "Skew:                          -0.303   Prob(JB):                        0.811\n",
       "Kurtosis:                       2.810   Cond. No.                     1.88e+04\n",
       "==============================================================================\n",
       "\n",
       "Warnings:\n",
       "[1] Standard Errors assume that the covariance matrix of the errors is correctly specified.\n",
       "[2] The condition number is large, 1.88e+04. This might indicate that there are\n",
       "strong multicollinearity or other numerical problems.\n",
       "\"\"\""
      ]
     },
     "execution_count": 277,
     "metadata": {},
     "output_type": "execute_result"
    }
   ],
   "source": [
    "model5.summary()"
   ]
  },
  {
   "cell_type": "code",
   "execution_count": 278,
   "metadata": {
    "collapsed": true
   },
   "outputs": [],
   "source": [
    "model6 = sm.ols('Price ~ AGST + HarvestRain + WinterRain+ FrancePop', data=wine).fit()"
   ]
  },
  {
   "cell_type": "code",
   "execution_count": 279,
   "metadata": {},
   "outputs": [
    {
     "data": {
      "text/html": [
       "<table class=\"simpletable\">\n",
       "<caption>OLS Regression Results</caption>\n",
       "<tr>\n",
       "  <th>Dep. Variable:</th>          <td>Price</td>      <th>  R-squared:         </th> <td>   0.829</td>\n",
       "</tr>\n",
       "<tr>\n",
       "  <th>Model:</th>                   <td>OLS</td>       <th>  Adj. R-squared:    </th> <td>   0.795</td>\n",
       "</tr>\n",
       "<tr>\n",
       "  <th>Method:</th>             <td>Least Squares</td>  <th>  F-statistic:       </th> <td>   24.30</td>\n",
       "</tr>\n",
       "<tr>\n",
       "  <th>Date:</th>             <td>Fri, 09 Jun 2017</td> <th>  Prob (F-statistic):</th> <td>1.95e-07</td>\n",
       "</tr>\n",
       "<tr>\n",
       "  <th>Time:</th>                 <td>00:30:18</td>     <th>  Log-Likelihood:    </th> <td> -2.1043</td>\n",
       "</tr>\n",
       "<tr>\n",
       "  <th>No. Observations:</th>      <td>    25</td>      <th>  AIC:               </th> <td>   14.21</td>\n",
       "</tr>\n",
       "<tr>\n",
       "  <th>Df Residuals:</th>          <td>    20</td>      <th>  BIC:               </th> <td>   20.30</td>\n",
       "</tr>\n",
       "<tr>\n",
       "  <th>Df Model:</th>              <td>     4</td>      <th>                     </th>     <td> </td>   \n",
       "</tr>\n",
       "<tr>\n",
       "  <th>Covariance Type:</th>      <td>nonrobust</td>    <th>                     </th>     <td> </td>   \n",
       "</tr>\n",
       "</table>\n",
       "<table class=\"simpletable\">\n",
       "<tr>\n",
       "       <td></td>          <th>coef</th>     <th>std err</th>      <th>t</th>      <th>P>|t|</th> <th>[95.0% Conf. Int.]</th> \n",
       "</tr>\n",
       "<tr>\n",
       "  <th>Intercept</th>   <td>   -0.3768</td> <td>    2.180</td> <td>   -0.173</td> <td> 0.865</td> <td>   -4.925     4.171</td>\n",
       "</tr>\n",
       "<tr>\n",
       "  <th>AGST</th>        <td>    0.6011</td> <td>    0.099</td> <td>    6.073</td> <td> 0.000</td> <td>    0.395     0.808</td>\n",
       "</tr>\n",
       "<tr>\n",
       "  <th>HarvestRain</th> <td>   -0.0040</td> <td>    0.001</td> <td>   -4.646</td> <td> 0.000</td> <td>   -0.006    -0.002</td>\n",
       "</tr>\n",
       "<tr>\n",
       "  <th>WinterRain</th>  <td>    0.0010</td> <td>    0.001</td> <td>    2.055</td> <td> 0.053</td> <td>-1.58e-05     0.002</td>\n",
       "</tr>\n",
       "<tr>\n",
       "  <th>FrancePop</th>   <td>-5.075e-05</td> <td>  1.7e-05</td> <td>   -2.978</td> <td> 0.007</td> <td>-8.63e-05 -1.52e-05</td>\n",
       "</tr>\n",
       "</table>\n",
       "<table class=\"simpletable\">\n",
       "<tr>\n",
       "  <th>Omnibus:</th>       <td> 1.763</td> <th>  Durbin-Watson:     </th> <td>   2.791</td>\n",
       "</tr>\n",
       "<tr>\n",
       "  <th>Prob(Omnibus):</th> <td> 0.414</td> <th>  Jarque-Bera (JB):  </th> <td>   1.024</td>\n",
       "</tr>\n",
       "<tr>\n",
       "  <th>Skew:</th>          <td>-0.006</td> <th>  Prob(JB):          </th> <td>   0.599</td>\n",
       "</tr>\n",
       "<tr>\n",
       "  <th>Kurtosis:</th>      <td> 2.009</td> <th>  Cond. No.          </th> <td>1.85e+06</td>\n",
       "</tr>\n",
       "</table>"
      ],
      "text/plain": [
       "<class 'statsmodels.iolib.summary.Summary'>\n",
       "\"\"\"\n",
       "                            OLS Regression Results                            \n",
       "==============================================================================\n",
       "Dep. Variable:                  Price   R-squared:                       0.829\n",
       "Model:                            OLS   Adj. R-squared:                  0.795\n",
       "Method:                 Least Squares   F-statistic:                     24.30\n",
       "Date:                Fri, 09 Jun 2017   Prob (F-statistic):           1.95e-07\n",
       "Time:                        00:30:18   Log-Likelihood:                -2.1043\n",
       "No. Observations:                  25   AIC:                             14.21\n",
       "Df Residuals:                      20   BIC:                             20.30\n",
       "Df Model:                           4                                         \n",
       "Covariance Type:            nonrobust                                         \n",
       "===============================================================================\n",
       "                  coef    std err          t      P>|t|      [95.0% Conf. Int.]\n",
       "-------------------------------------------------------------------------------\n",
       "Intercept      -0.3768      2.180     -0.173      0.865        -4.925     4.171\n",
       "AGST            0.6011      0.099      6.073      0.000         0.395     0.808\n",
       "HarvestRain    -0.0040      0.001     -4.646      0.000        -0.006    -0.002\n",
       "WinterRain      0.0010      0.001      2.055      0.053     -1.58e-05     0.002\n",
       "FrancePop   -5.075e-05    1.7e-05     -2.978      0.007     -8.63e-05 -1.52e-05\n",
       "==============================================================================\n",
       "Omnibus:                        1.763   Durbin-Watson:                   2.791\n",
       "Prob(Omnibus):                  0.414   Jarque-Bera (JB):                1.024\n",
       "Skew:                          -0.006   Prob(JB):                        0.599\n",
       "Kurtosis:                       2.009   Cond. No.                     1.85e+06\n",
       "==============================================================================\n",
       "\n",
       "Warnings:\n",
       "[1] Standard Errors assume that the covariance matrix of the errors is correctly specified.\n",
       "[2] The condition number is large, 1.85e+06. This might indicate that there are\n",
       "strong multicollinearity or other numerical problems.\n",
       "\"\"\""
      ]
     },
     "execution_count": 279,
     "metadata": {},
     "output_type": "execute_result"
    }
   ],
   "source": [
    "model6.summary()"
   ]
  },
  {
   "cell_type": "code",
   "execution_count": 280,
   "metadata": {
    "collapsed": true
   },
   "outputs": [],
   "source": [
    "model7 = sm.ols('Price~Age+FrancePop',data=wine).fit()"
   ]
  },
  {
   "cell_type": "code",
   "execution_count": 281,
   "metadata": {},
   "outputs": [
    {
     "data": {
      "text/html": [
       "<table class=\"simpletable\">\n",
       "<caption>OLS Regression Results</caption>\n",
       "<tr>\n",
       "  <th>Dep. Variable:</th>          <td>Price</td>      <th>  R-squared:         </th> <td>   0.243</td>\n",
       "</tr>\n",
       "<tr>\n",
       "  <th>Model:</th>                   <td>OLS</td>       <th>  Adj. R-squared:    </th> <td>   0.174</td>\n",
       "</tr>\n",
       "<tr>\n",
       "  <th>Method:</th>             <td>Least Squares</td>  <th>  F-statistic:       </th> <td>   3.527</td>\n",
       "</tr>\n",
       "<tr>\n",
       "  <th>Date:</th>             <td>Fri, 09 Jun 2017</td> <th>  Prob (F-statistic):</th>  <td>0.0469</td> \n",
       "</tr>\n",
       "<tr>\n",
       "  <th>Time:</th>                 <td>00:30:19</td>     <th>  Log-Likelihood:    </th> <td> -20.731</td>\n",
       "</tr>\n",
       "<tr>\n",
       "  <th>No. Observations:</th>      <td>    25</td>      <th>  AIC:               </th> <td>   47.46</td>\n",
       "</tr>\n",
       "<tr>\n",
       "  <th>Df Residuals:</th>          <td>    22</td>      <th>  BIC:               </th> <td>   51.12</td>\n",
       "</tr>\n",
       "<tr>\n",
       "  <th>Df Model:</th>              <td>     2</td>      <th>                     </th>     <td> </td>   \n",
       "</tr>\n",
       "<tr>\n",
       "  <th>Covariance Type:</th>      <td>nonrobust</td>    <th>                     </th>     <td> </td>   \n",
       "</tr>\n",
       "</table>\n",
       "<table class=\"simpletable\">\n",
       "<tr>\n",
       "      <td></td>         <th>coef</th>     <th>std err</th>      <th>t</th>      <th>P>|t|</th> <th>[95.0% Conf. Int.]</th> \n",
       "</tr>\n",
       "<tr>\n",
       "  <th>Intercept</th> <td>   26.5369</td> <td>   18.158</td> <td>    1.461</td> <td> 0.158</td> <td>  -11.121    64.195</td>\n",
       "</tr>\n",
       "<tr>\n",
       "  <th>Age</th>       <td>   -0.1270</td> <td>    0.150</td> <td>   -0.849</td> <td> 0.405</td> <td>   -0.437     0.183</td>\n",
       "</tr>\n",
       "<tr>\n",
       "  <th>FrancePop</th> <td>   -0.0003</td> <td>    0.000</td> <td>   -1.108</td> <td> 0.280</td> <td>   -0.001     0.000</td>\n",
       "</tr>\n",
       "</table>\n",
       "<table class=\"simpletable\">\n",
       "<tr>\n",
       "  <th>Omnibus:</th>       <td> 2.602</td> <th>  Durbin-Watson:     </th> <td>   2.699</td>\n",
       "</tr>\n",
       "<tr>\n",
       "  <th>Prob(Omnibus):</th> <td> 0.272</td> <th>  Jarque-Bera (JB):  </th> <td>   1.330</td>\n",
       "</tr>\n",
       "<tr>\n",
       "  <th>Skew:</th>          <td> 0.191</td> <th>  Prob(JB):          </th> <td>   0.514</td>\n",
       "</tr>\n",
       "<tr>\n",
       "  <th>Kurtosis:</th>      <td> 1.936</td> <th>  Cond. No.          </th> <td>7.65e+06</td>\n",
       "</tr>\n",
       "</table>"
      ],
      "text/plain": [
       "<class 'statsmodels.iolib.summary.Summary'>\n",
       "\"\"\"\n",
       "                            OLS Regression Results                            \n",
       "==============================================================================\n",
       "Dep. Variable:                  Price   R-squared:                       0.243\n",
       "Model:                            OLS   Adj. R-squared:                  0.174\n",
       "Method:                 Least Squares   F-statistic:                     3.527\n",
       "Date:                Fri, 09 Jun 2017   Prob (F-statistic):             0.0469\n",
       "Time:                        00:30:19   Log-Likelihood:                -20.731\n",
       "No. Observations:                  25   AIC:                             47.46\n",
       "Df Residuals:                      22   BIC:                             51.12\n",
       "Df Model:                           2                                         \n",
       "Covariance Type:            nonrobust                                         \n",
       "==============================================================================\n",
       "                 coef    std err          t      P>|t|      [95.0% Conf. Int.]\n",
       "------------------------------------------------------------------------------\n",
       "Intercept     26.5369     18.158      1.461      0.158       -11.121    64.195\n",
       "Age           -0.1270      0.150     -0.849      0.405        -0.437     0.183\n",
       "FrancePop     -0.0003      0.000     -1.108      0.280        -0.001     0.000\n",
       "==============================================================================\n",
       "Omnibus:                        2.602   Durbin-Watson:                   2.699\n",
       "Prob(Omnibus):                  0.272   Jarque-Bera (JB):                1.330\n",
       "Skew:                           0.191   Prob(JB):                        0.514\n",
       "Kurtosis:                       1.936   Cond. No.                     7.65e+06\n",
       "==============================================================================\n",
       "\n",
       "Warnings:\n",
       "[1] Standard Errors assume that the covariance matrix of the errors is correctly specified.\n",
       "[2] The condition number is large, 7.65e+06. This might indicate that there are\n",
       "strong multicollinearity or other numerical problems.\n",
       "\"\"\""
      ]
     },
     "execution_count": 281,
     "metadata": {},
     "output_type": "execute_result"
    }
   ],
   "source": [
    "model7.summary()"
   ]
  },
  {
   "cell_type": "code",
   "execution_count": 282,
   "metadata": {
    "collapsed": true
   },
   "outputs": [],
   "source": [
    "wineTest = pd.read_csv(\"https://storage.googleapis.com/dimensionless/Analytics/wine_test.csv\")"
   ]
  },
  {
   "cell_type": "code",
   "execution_count": 283,
   "metadata": {},
   "outputs": [
    {
     "data": {
      "text/plain": [
       "Year             int64\n",
       "Price          float64\n",
       "WinterRain       int64\n",
       "AGST           float64\n",
       "HarvestRain      int64\n",
       "Age              int64\n",
       "FrancePop      float64\n",
       "dtype: object"
      ]
     },
     "execution_count": 283,
     "metadata": {},
     "output_type": "execute_result"
    }
   ],
   "source": [
    "wineTest.dtypes"
   ]
  },
  {
   "cell_type": "code",
   "execution_count": 284,
   "metadata": {
    "collapsed": true
   },
   "outputs": [],
   "source": [
    "predictTest = model4.predict(wineTest)"
   ]
  },
  {
   "cell_type": "code",
   "execution_count": 285,
   "metadata": {},
   "outputs": [
    {
     "data": {
      "text/plain": [
       "array([ 6.76892463,  6.6849104 ])"
      ]
     },
     "execution_count": 285,
     "metadata": {},
     "output_type": "execute_result"
    }
   ],
   "source": [
    "predictTest"
   ]
  },
  {
   "cell_type": "code",
   "execution_count": 286,
   "metadata": {},
   "outputs": [
    {
     "data": {
      "text/plain": [
       "0    6.9541\n",
       "1    6.4979\n",
       "Name: Price, dtype: float64"
      ]
     },
     "execution_count": 286,
     "metadata": {},
     "output_type": "execute_result"
    }
   ],
   "source": [
    "wineTest['Price']"
   ]
  },
  {
   "cell_type": "markdown",
   "metadata": {},
   "source": [
    "# Compute R-squared"
   ]
  },
  {
   "cell_type": "code",
   "execution_count": 287,
   "metadata": {
    "collapsed": true
   },
   "outputs": [],
   "source": [
    "SSE = sum((wineTest['Price'] - predictTest) ** 2)"
   ]
  },
  {
   "cell_type": "code",
   "execution_count": 288,
   "metadata": {
    "collapsed": true
   },
   "outputs": [],
   "source": [
    "SST = sum((wineTest['Price'] - np.mean(wine['Price'])) ** 2)"
   ]
  },
  {
   "cell_type": "code",
   "execution_count": 289,
   "metadata": {},
   "outputs": [
    {
     "data": {
      "text/plain": [
       "0.79442776026319639"
      ]
     },
     "execution_count": 289,
     "metadata": {},
     "output_type": "execute_result"
    }
   ],
   "source": [
    "1 - SSE / SST"
   ]
  },
  {
   "cell_type": "markdown",
   "metadata": {},
   "source": [
    "# Prediction using  model2"
   ]
  },
  {
   "cell_type": "code",
   "execution_count": 300,
   "metadata": {
    "collapsed": true
   },
   "outputs": [],
   "source": [
    "predict_model2 = model2.predict(wineTest)"
   ]
  },
  {
   "cell_type": "code",
   "execution_count": 301,
   "metadata": {
    "collapsed": true
   },
   "outputs": [],
   "source": [
    "SSE = sum((wineTest['Price'] - predict_model2) ** 2)"
   ]
  },
  {
   "cell_type": "code",
   "execution_count": 302,
   "metadata": {
    "collapsed": true
   },
   "outputs": [],
   "source": [
    "SST = sum((wineTest['Price'] - np.mean(wine['Price'])) ** 2)"
   ]
  },
  {
   "cell_type": "code",
   "execution_count": 303,
   "metadata": {},
   "outputs": [
    {
     "data": {
      "text/plain": [
       "-0.081999476673916716"
      ]
     },
     "execution_count": 303,
     "metadata": {},
     "output_type": "execute_result"
    }
   ],
   "source": [
    "1 - SSE / SST"
   ]
  },
  {
   "cell_type": "code",
   "execution_count": 304,
   "metadata": {
    "collapsed": true
   },
   "outputs": [],
   "source": [
    "wineTest.to_csv('wine_write.csv')"
   ]
  },
  {
   "cell_type": "markdown",
   "metadata": {},
   "source": [
    "# FeaturePlot"
   ]
  },
  {
   "cell_type": "code",
   "execution_count": 305,
   "metadata": {},
   "outputs": [
    {
     "data": {
      "image/png": "[encoded data removed]",
      "text/plain": [
       "<matplotlib.figure.Figure at 0x7fd04ee648d0>"
      ]
     },
     "metadata": {},
     "output_type": "display_data"
    }
   ],
   "source": [
    "fig, ax = plt.subplots(nrows=1,ncols=5,figsize=(15,2))\n",
    "\n",
    "plt.subplot(151)\n",
    "plt.plot(wine['WinterRain'] / 100,'ro')\n",
    "plt.title('WinterRain')\n",
    "\n",
    "plt.subplot(152)\n",
    "plt.plot(wine['AGST'] / 100,'go')\n",
    "plt.title('AGST')\n",
    "\n",
    "plt.subplot(153)\n",
    "plt.plot(wine['HarvestRain'] / 100,'bo')\n",
    "plt.title('HarvestRain')\n",
    "\n",
    "plt.subplot(154)\n",
    "plt.plot(wine['Age'] / 100,'co')\n",
    "plt.title('Age')\n",
    "\n",
    "plt.subplot(155)\n",
    "plt.plot(wine['FrancePop'] / 100,'ko')\n",
    "plt.title('FrancePop')\n",
    "\n",
    "fig.subplots_adjust(wspace=.6)"
   ]
  },
  {
   "cell_type": "markdown",
   "metadata": {},
   "source": [
    "# VIF"
   ]
  },
  {
   "cell_type": "code",
   "execution_count": 159,
   "metadata": {
    "collapsed": true
   },
   "outputs": [],
   "source": [
    "from statsmodels.stats.outliers_influence import variance_inflation_factor\n",
    "from patsy import dmatrices"
   ]
  },
  {
   "cell_type": "code",
   "execution_count": 171,
   "metadata": {
    "collapsed": true
   },
   "outputs": [],
   "source": [
    "def dmatrices_custom(target,features,dataframe):\n",
    "    return dmatrices(target + '~' + features,dataframe,return_type='dataframe')"
   ]
  },
  {
   "cell_type": "code",
   "execution_count": 176,
   "metadata": {
    "collapsed": true
   },
   "outputs": [],
   "source": [
    "def vif_factor(X_frame):\n",
    "    return [variance_inflation_factor(X_frame.values, i) for i in range(X.shape[1])]"
   ]
  },
  {
   "cell_type": "code",
   "execution_count": 226,
   "metadata": {
    "collapsed": true
   },
   "outputs": [],
   "source": [
    "def show_vif(X):\n",
    "    vif = pd.DataFrame()\n",
    "    vif[\"VIF Factor\"] = vif_factor(X)\n",
    "    vif[\"Features\"] = X.columns\n",
    "    return vif[vif.columns.tolist()[::-1]][1:].T"
   ]
  },
  {
   "cell_type": "code",
   "execution_count": 172,
   "metadata": {
    "collapsed": true
   },
   "outputs": [],
   "source": [
    "target = 'Price' ## Common target variable"
   ]
  },
  {
   "cell_type": "markdown",
   "metadata": {},
   "source": [
    "## Model-2  (Price ~ AGST + HarvestRain)"
   ]
  },
  {
   "cell_type": "code",
   "execution_count": 228,
   "metadata": {
    "collapsed": true
   },
   "outputs": [],
   "source": [
    "data = wine[['Price','AGST','HarvestRain']]"
   ]
  },
  {
   "cell_type": "code",
   "execution_count": 229,
   "metadata": {
    "collapsed": true
   },
   "outputs": [],
   "source": [
    "features = 'AGST+HarvestRain'"
   ]
  },
  {
   "cell_type": "code",
   "execution_count": 230,
   "metadata": {
    "collapsed": true
   },
   "outputs": [],
   "source": [
    "y, X = dmatrices_custom(target,features,data)"
   ]
  },
  {
   "cell_type": "code",
   "execution_count": 231,
   "metadata": {},
   "outputs": [
    {
     "data": {
      "text/html": [
       "<div>\n",
       "<table border=\"1\" class=\"dataframe\">\n",
       "  <thead>\n",
       "    <tr style=\"text-align: right;\">\n",
       "      <th></th>\n",
       "      <th>1</th>\n",
       "      <th>2</th>\n",
       "    </tr>\n",
       "  </thead>\n",
       "  <tbody>\n",
       "    <tr>\n",
       "      <th>Features</th>\n",
       "      <td>AGST</td>\n",
       "      <td>HarvestRain</td>\n",
       "    </tr>\n",
       "    <tr>\n",
       "      <th>VIF Factor</th>\n",
       "      <td>1.00418</td>\n",
       "      <td>1.00418</td>\n",
       "    </tr>\n",
       "  </tbody>\n",
       "</table>\n",
       "</div>"
      ],
      "text/plain": [
       "                  1            2\n",
       "Features       AGST  HarvestRain\n",
       "VIF Factor  1.00418      1.00418"
      ]
     },
     "execution_count": 231,
     "metadata": {},
     "output_type": "execute_result"
    }
   ],
   "source": [
    "show_vif(X)"
   ]
  },
  {
   "cell_type": "markdown",
   "metadata": {},
   "source": [
    "## Model - 3 (Price ~ AGST + HarvestRain + WinterRain + Age + FrancePop)"
   ]
  },
  {
   "cell_type": "code",
   "execution_count": 232,
   "metadata": {
    "collapsed": true
   },
   "outputs": [],
   "source": [
    "data = wine[['Price','AGST','HarvestRain','WinterRain','Age','FrancePop']]"
   ]
  },
  {
   "cell_type": "code",
   "execution_count": 233,
   "metadata": {
    "collapsed": true
   },
   "outputs": [],
   "source": [
    "features = 'AGST+HarvestRain+WinterRain+Age+FrancePop'"
   ]
  },
  {
   "cell_type": "code",
   "execution_count": 234,
   "metadata": {
    "collapsed": true
   },
   "outputs": [],
   "source": [
    "y, X = dmatrices_custom(target,features,data)"
   ]
  },
  {
   "cell_type": "code",
   "execution_count": 235,
   "metadata": {},
   "outputs": [
    {
     "data": {
      "text/html": [
       "<div>\n",
       "<table border=\"1\" class=\"dataframe\">\n",
       "  <thead>\n",
       "    <tr style=\"text-align: right;\">\n",
       "      <th></th>\n",
       "      <th>1</th>\n",
       "      <th>2</th>\n",
       "      <th>3</th>\n",
       "      <th>4</th>\n",
       "      <th>5</th>\n",
       "    </tr>\n",
       "  </thead>\n",
       "  <tbody>\n",
       "    <tr>\n",
       "      <th>Features</th>\n",
       "      <td>AGST</td>\n",
       "      <td>HarvestRain</td>\n",
       "      <td>WinterRain</td>\n",
       "      <td>Age</td>\n",
       "      <td>FrancePop</td>\n",
       "    </tr>\n",
       "    <tr>\n",
       "      <th>VIF Factor</th>\n",
       "      <td>1.27454</td>\n",
       "      <td>1.11658</td>\n",
       "      <td>1.2988</td>\n",
       "      <td>97.2197</td>\n",
       "      <td>98.2527</td>\n",
       "    </tr>\n",
       "  </tbody>\n",
       "</table>\n",
       "</div>"
      ],
      "text/plain": [
       "                  1            2           3        4          5\n",
       "Features       AGST  HarvestRain  WinterRain      Age  FrancePop\n",
       "VIF Factor  1.27454      1.11658      1.2988  97.2197    98.2527"
      ]
     },
     "execution_count": 235,
     "metadata": {},
     "output_type": "execute_result"
    }
   ],
   "source": [
    "show_vif(X)"
   ]
  },
  {
   "cell_type": "markdown",
   "metadata": {},
   "source": [
    "## Model - 4 (Price ~ AGST + HarvestRain + WinterRain + Age)"
   ]
  },
  {
   "cell_type": "code",
   "execution_count": 236,
   "metadata": {
    "collapsed": true
   },
   "outputs": [],
   "source": [
    "data = wine[['Price','AGST','HarvestRain','WinterRain','Age']]"
   ]
  },
  {
   "cell_type": "code",
   "execution_count": 237,
   "metadata": {
    "collapsed": true
   },
   "outputs": [],
   "source": [
    "features = 'AGST+HarvestRain+WinterRain+Age'"
   ]
  },
  {
   "cell_type": "code",
   "execution_count": 238,
   "metadata": {
    "collapsed": true
   },
   "outputs": [],
   "source": [
    "y, X = dmatrices_custom(target,features,data)"
   ]
  },
  {
   "cell_type": "code",
   "execution_count": 239,
   "metadata": {},
   "outputs": [
    {
     "data": {
      "text/html": [
       "<div>\n",
       "<table border=\"1\" class=\"dataframe\">\n",
       "  <thead>\n",
       "    <tr style=\"text-align: right;\">\n",
       "      <th></th>\n",
       "      <th>1</th>\n",
       "      <th>2</th>\n",
       "      <th>3</th>\n",
       "      <th>4</th>\n",
       "    </tr>\n",
       "  </thead>\n",
       "  <tbody>\n",
       "    <tr>\n",
       "      <th>Features</th>\n",
       "      <td>AGST</td>\n",
       "      <td>HarvestRain</td>\n",
       "      <td>WinterRain</td>\n",
       "      <td>Age</td>\n",
       "    </tr>\n",
       "    <tr>\n",
       "      <th>VIF Factor</th>\n",
       "      <td>1.22581</td>\n",
       "      <td>1.11361</td>\n",
       "      <td>1.24199</td>\n",
       "      <td>1.06995</td>\n",
       "    </tr>\n",
       "  </tbody>\n",
       "</table>\n",
       "</div>"
      ],
      "text/plain": [
       "                  1            2           3        4\n",
       "Features       AGST  HarvestRain  WinterRain      Age\n",
       "VIF Factor  1.22581      1.11361     1.24199  1.06995"
      ]
     },
     "execution_count": 239,
     "metadata": {},
     "output_type": "execute_result"
    }
   ],
   "source": [
    "show_vif(X)"
   ]
  },
  {
   "cell_type": "markdown",
   "metadata": {},
   "source": [
    "## Model - 5 (Price ~ AGST + HarvestRain + WinterRain)"
   ]
  },
  {
   "cell_type": "code",
   "execution_count": 240,
   "metadata": {
    "collapsed": true
   },
   "outputs": [],
   "source": [
    "data = wine[['Price','AGST','HarvestRain','WinterRain']]"
   ]
  },
  {
   "cell_type": "code",
   "execution_count": 241,
   "metadata": {
    "collapsed": true
   },
   "outputs": [],
   "source": [
    "features = 'AGST+HarvestRain+WinterRain'"
   ]
  },
  {
   "cell_type": "code",
   "execution_count": 242,
   "metadata": {
    "collapsed": true
   },
   "outputs": [],
   "source": [
    "y, X = dmatrices_custom(target,features,data)"
   ]
  },
  {
   "cell_type": "code",
   "execution_count": 243,
   "metadata": {},
   "outputs": [
    {
     "data": {
      "text/html": [
       "<div>\n",
       "<table border=\"1\" class=\"dataframe\">\n",
       "  <thead>\n",
       "    <tr style=\"text-align: right;\">\n",
       "      <th></th>\n",
       "      <th>1</th>\n",
       "      <th>2</th>\n",
       "      <th>3</th>\n",
       "    </tr>\n",
       "  </thead>\n",
       "  <tbody>\n",
       "    <tr>\n",
       "      <th>Features</th>\n",
       "      <td>AGST</td>\n",
       "      <td>HarvestRain</td>\n",
       "      <td>WinterRain</td>\n",
       "    </tr>\n",
       "    <tr>\n",
       "      <th>VIF Factor</th>\n",
       "      <td>1.14733</td>\n",
       "      <td>1.11352</td>\n",
       "      <td>1.23635</td>\n",
       "    </tr>\n",
       "  </tbody>\n",
       "</table>\n",
       "</div>"
      ],
      "text/plain": [
       "                  1            2           3\n",
       "Features       AGST  HarvestRain  WinterRain\n",
       "VIF Factor  1.14733      1.11352     1.23635"
      ]
     },
     "execution_count": 243,
     "metadata": {},
     "output_type": "execute_result"
    }
   ],
   "source": [
    "show_vif(X)"
   ]
  }
 ],
 "metadata": {
  "kernelspec": {
   "display_name": "Python 3",
   "language": "python",
   "name": "python3"
  },
  "language_info": {
   "codemirror_mode": {
    "name": "ipython",
    "version": 3
   },
   "file_extension": ".py",
   "mimetype": "text/x-python",
   "name": "python",
   "nbconvert_exporter": "python",
   "pygments_lexer": "ipython3",
   "version": "3.6.4"
  }
 },
 "nbformat": 4,
 "nbformat_minor": 2
}
